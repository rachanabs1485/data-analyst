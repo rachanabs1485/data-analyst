{
  "nbformat": 4,
  "nbformat_minor": 0,
  "metadata": {
    "colab": {
      "provenance": []
    },
    "kernelspec": {
      "name": "python3",
      "display_name": "Python 3"
    },
    "language_info": {
      "name": "python"
    }
  },
  "cells": [
    {
      "cell_type": "code",
      "source": [
        "# Import necessary libraries\n",
        "import pandas as pd\n",
        "from sklearn.preprocessing import StandardScaler\n",
        "from sklearn.linear_model import LogisticRegression\n",
        "from sklearn.metrics import accuracy_score, classification_report, confusion_matrix\n",
        "\n",
        "# Define file paths for the training and testing datasets\n",
        "# Assuming these files are in the same directory where the Colab notebook is running.\n",
        "train_file = \"churn-bigml-80.csv\"\n",
        "test_file = \"churn-bigml-20.csv\"\n",
        "\n",
        "# Load the datasets\n",
        "df_train = pd.read_csv(train_file)\n",
        "df_test = pd.read_csv(test_file)\n",
        "\n",
        "print(\"--- Training Data Snapshot ---\")\n",
        "print(df_train.head())\n",
        "print(\"\\n--- Training Data Info ---\")\n",
        "df_train.info()"
      ],
      "metadata": {
        "colab": {
          "base_uri": "https://localhost:8080/"
        },
        "id": "qB64vfsHKDrw",
        "outputId": "8c8b49f5-50b9-4b43-ee7b-9a9cc9eb5a55"
      },
      "execution_count": 4,
      "outputs": [
        {
          "output_type": "stream",
          "name": "stdout",
          "text": [
            "--- Training Data Snapshot ---\n",
            "  State  Account length  Area code International plan Voice mail plan  \\\n",
            "0    KS             128        415                 No             Yes   \n",
            "1    OH             107        415                 No             Yes   \n",
            "2    NJ             137        415                 No              No   \n",
            "3    OH              84        408                Yes              No   \n",
            "4    OK              75        415                Yes              No   \n",
            "\n",
            "   Number vmail messages  Total day minutes  Total day calls  \\\n",
            "0                     25              265.1              110   \n",
            "1                     26              161.6              123   \n",
            "2                      0              243.4              114   \n",
            "3                      0              299.4               71   \n",
            "4                      0              166.7              113   \n",
            "\n",
            "   Total day charge  Total eve minutes  Total eve calls  Total eve charge  \\\n",
            "0             45.07              197.4               99             16.78   \n",
            "1             27.47              195.5              103             16.62   \n",
            "2             41.38              121.2              110             10.30   \n",
            "3             50.90               61.9               88              5.26   \n",
            "4             28.34              148.3              122             12.61   \n",
            "\n",
            "   Total night minutes  Total night calls  Total night charge  \\\n",
            "0                244.7                 91               11.01   \n",
            "1                254.4                103               11.45   \n",
            "2                162.6                104                7.32   \n",
            "3                196.9                 89                8.86   \n",
            "4                186.9                121                8.41   \n",
            "\n",
            "   Total intl minutes  Total intl calls  Total intl charge  \\\n",
            "0                10.0                 3               2.70   \n",
            "1                13.7                 3               3.70   \n",
            "2                12.2                 5               3.29   \n",
            "3                 6.6                 7               1.78   \n",
            "4                10.1                 3               2.73   \n",
            "\n",
            "   Customer service calls  Churn  \n",
            "0                       1  False  \n",
            "1                       1  False  \n",
            "2                       0  False  \n",
            "3                       2  False  \n",
            "4                       3  False  \n",
            "\n",
            "--- Training Data Info ---\n",
            "<class 'pandas.core.frame.DataFrame'>\n",
            "RangeIndex: 2666 entries, 0 to 2665\n",
            "Data columns (total 20 columns):\n",
            " #   Column                  Non-Null Count  Dtype  \n",
            "---  ------                  --------------  -----  \n",
            " 0   State                   2666 non-null   object \n",
            " 1   Account length          2666 non-null   int64  \n",
            " 2   Area code               2666 non-null   int64  \n",
            " 3   International plan      2666 non-null   object \n",
            " 4   Voice mail plan         2666 non-null   object \n",
            " 5   Number vmail messages   2666 non-null   int64  \n",
            " 6   Total day minutes       2666 non-null   float64\n",
            " 7   Total day calls         2666 non-null   int64  \n",
            " 8   Total day charge        2666 non-null   float64\n",
            " 9   Total eve minutes       2666 non-null   float64\n",
            " 10  Total eve calls         2666 non-null   int64  \n",
            " 11  Total eve charge        2666 non-null   float64\n",
            " 12  Total night minutes     2666 non-null   float64\n",
            " 13  Total night calls       2666 non-null   int64  \n",
            " 14  Total night charge      2666 non-null   float64\n",
            " 15  Total intl minutes      2666 non-null   float64\n",
            " 16  Total intl calls        2666 non-null   int64  \n",
            " 17  Total intl charge       2666 non-null   float64\n",
            " 18  Customer service calls  2666 non-null   int64  \n",
            " 19  Churn                   2666 non-null   bool   \n",
            "dtypes: bool(1), float64(8), int64(8), object(3)\n",
            "memory usage: 398.5+ KB\n"
          ]
        }
      ]
    },
    {
      "cell_type": "code",
      "source": [
        "# 1. Drop non-predictive features\n",
        "# 'State' and 'Area code' are typically dropped in a basic model.\n",
        "df_train = df_train.drop(['State', 'Area code'], axis=1)\n",
        "df_test = df_test.drop(['State', 'Area code'], axis=1)\n",
        "\n",
        "# 2. Encode Binary Categorical Features (Yes/No and True/False)\n",
        "# Create a mapping dictionary to convert text labels to 0 and 1.\n",
        "mapping = {'Yes': 1, 'No': 0, True: 1, False: 0}\n",
        "\n",
        "for col in ['International plan', 'Voice mail plan', 'Churn']:\n",
        "    df_train[col] = df_train[col].map(mapping)\n",
        "    df_test[col] = df_test[col].map(mapping)\n",
        "\n",
        "# 3. Define Features (X) and Target (y)\n",
        "X_train = df_train.drop('Churn', axis=1)\n",
        "y_train = df_train['Churn']\n",
        "\n",
        "X_test = df_test.drop('Churn', axis=1)\n",
        "y_test = df_test['Churn']\n",
        "\n",
        "print(\"\\n--- Processed Training Features Head (Numerical) ---\")\n",
        "print(X_train.head())\n"
      ],
      "metadata": {
        "colab": {
          "base_uri": "https://localhost:8080/"
        },
        "id": "Tm2PtGL-Sds9",
        "outputId": "ca35623c-cd77-49dc-b96e-974b473e8ad4"
      },
      "execution_count": 5,
      "outputs": [
        {
          "output_type": "stream",
          "name": "stdout",
          "text": [
            "\n",
            "--- Processed Training Features Head (Numerical) ---\n",
            "   Account length  International plan  Voice mail plan  Number vmail messages  \\\n",
            "0             128                   0                1                     25   \n",
            "1             107                   0                1                     26   \n",
            "2             137                   0                0                      0   \n",
            "3              84                   1                0                      0   \n",
            "4              75                   1                0                      0   \n",
            "\n",
            "   Total day minutes  Total day calls  Total day charge  Total eve minutes  \\\n",
            "0              265.1              110             45.07              197.4   \n",
            "1              161.6              123             27.47              195.5   \n",
            "2              243.4              114             41.38              121.2   \n",
            "3              299.4               71             50.90               61.9   \n",
            "4              166.7              113             28.34              148.3   \n",
            "\n",
            "   Total eve calls  Total eve charge  Total night minutes  Total night calls  \\\n",
            "0               99             16.78                244.7                 91   \n",
            "1              103             16.62                254.4                103   \n",
            "2              110             10.30                162.6                104   \n",
            "3               88              5.26                196.9                 89   \n",
            "4              122             12.61                186.9                121   \n",
            "\n",
            "   Total night charge  Total intl minutes  Total intl calls  \\\n",
            "0               11.01                10.0                 3   \n",
            "1               11.45                13.7                 3   \n",
            "2                7.32                12.2                 5   \n",
            "3                8.86                 6.6                 7   \n",
            "4                8.41                10.1                 3   \n",
            "\n",
            "   Total intl charge  Customer service calls  \n",
            "0               2.70                       1  \n",
            "1               3.70                       1  \n",
            "2               3.29                       0  \n",
            "3               1.78                       2  \n",
            "4               2.73                       3  \n"
          ]
        }
      ]
    },
    {
      "cell_type": "code",
      "source": [
        "# 1. Initialize StandardScaler\n",
        "scaler = StandardScaler()\n",
        "\n",
        "# 2. Fit the scaler on the TRAINING data and transform both sets\n",
        "# IMPORTANT: Never fit the scaler on the test data to prevent data leakage.\n",
        "X_train_scaled = scaler.fit_transform(X_train)\n",
        "X_test_scaled = scaler.transform(X_test)\n",
        "\n",
        "\n",
        "# 3. Initialize and Train the Logistic Regression Model\n",
        "# Logistic Regression is a good starting point for binary classification problems.\n",
        "model = LogisticRegression(random_state=42)\n",
        "model.fit(X_train_scaled, y_train)\n",
        "\n",
        "print(\"\\nLogistic Regression Model Training Complete!\")"
      ],
      "metadata": {
        "colab": {
          "base_uri": "https://localhost:8080/"
        },
        "id": "mUdMsvL_ScIJ",
        "outputId": "d940032e-96f2-4990-f8e7-1570d7eb0505"
      },
      "execution_count": 6,
      "outputs": [
        {
          "output_type": "stream",
          "name": "stdout",
          "text": [
            "\n",
            "Logistic Regression Model Training Complete!\n"
          ]
        }
      ]
    },
    {
      "cell_type": "code",
      "source": [
        "# 1. Make Predictions on the scaled test data\n",
        "y_pred = model.predict(X_test_scaled)\n",
        "\n",
        "\n",
        "# 2. Evaluate the model performance\n",
        "accuracy = accuracy_score(y_test, y_pred)\n",
        "conf_matrix = confusion_matrix(y_test, y_pred)\n",
        "report = classification_report(y_test, y_pred)\n",
        "\n",
        "print(\"\\n--- Model Evaluation Results ---\")\n",
        "print(f\"Accuracy on Test Set: {accuracy:.4f}\\n\")\n",
        "print(\"Classification Report:\\n\", report)\n",
        "print(\"Confusion Matrix:\\n\", conf_matrix)\n",
        "\n",
        "# Interpretation of Confusion Matrix (for Churn=1):\n",
        "# [[True Negatives (Non-churn correctly predicted), False Positives (Non-churn incorrectly predicted as churn)],\n",
        "#  [False Negatives (Churners incorrectly predicted as non-churn), True Positives (Churners correctly predicted)]]"
      ],
      "metadata": {
        "colab": {
          "base_uri": "https://localhost:8080/"
        },
        "id": "GRz0QGYMTGYf",
        "outputId": "7a55cfbe-cf7d-4b70-e921-b497383c576f"
      },
      "execution_count": 8,
      "outputs": [
        {
          "output_type": "stream",
          "name": "stdout",
          "text": [
            "\n",
            "--- Model Evaluation Results ---\n",
            "Accuracy on Test Set: 0.8546\n",
            "\n",
            "Classification Report:\n",
            "               precision    recall  f1-score   support\n",
            "\n",
            "           0       0.88      0.97      0.92       572\n",
            "           1       0.47      0.19      0.27        95\n",
            "\n",
            "    accuracy                           0.85       667\n",
            "   macro avg       0.68      0.58      0.59       667\n",
            "weighted avg       0.82      0.85      0.83       667\n",
            "\n",
            "Confusion Matrix:\n",
            " [[552  20]\n",
            " [ 77  18]]\n"
          ]
        }
      ]
    }
  ]
}